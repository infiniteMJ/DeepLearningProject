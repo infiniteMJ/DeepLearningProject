{
  "nbformat": 4,
  "nbformat_minor": 0,
  "metadata": {
    "colab": {
      "name": "main.ipynb",
      "provenance": [],
      "machine_shape": "hm",
      "authorship_tag": "ABX9TyOCoopJstVJSTBBqIxwiNyJ",
      "include_colab_link": true
    },
    "kernelspec": {
      "name": "python3",
      "display_name": "Python 3"
    },
    "language_info": {
      "name": "python"
    },
    "accelerator": "GPU"
  },
  "cells": [
    {
      "cell_type": "markdown",
      "metadata": {
        "id": "view-in-github",
        "colab_type": "text"
      },
      "source": [
        "<a href=\"https://colab.research.google.com/github/infiniteMJ/DeepLearningProject/blob/main/main.ipynb\" target=\"_parent\"><img src=\"https://colab.research.google.com/assets/colab-badge.svg\" alt=\"Open In Colab\"/></a>"
      ]
    },
    {
      "cell_type": "markdown",
      "source": [
        "# Download dataset"
      ],
      "metadata": {
        "id": "4sThe4NwucA9"
      }
    },
    {
      "cell_type": "code",
      "execution_count": 1,
      "metadata": {
        "colab": {
          "base_uri": "https://localhost:8080/"
        },
        "id": "U2FzGkoyt6E6",
        "outputId": "a139c8c0-df69-447b-a71a-5a5ac84bfaba"
      },
      "outputs": [
        {
          "output_type": "stream",
          "name": "stdout",
          "text": [
            "Mounted at /content/drive\n"
          ]
        }
      ],
      "source": [
        "## mount google drive\n",
        "from google.colab import drive\n",
        "drive.mount('/content/drive')"
      ]
    },
    {
      "cell_type": "code",
      "source": [
        "!unzip \"drive/MyDrive/DeepLearningProject/rainy_image_dataset.zip\" -d  \"drive/MyDrive/DeepLearningProject/data/\""
      ],
      "metadata": {
        "id": "QFwLTvGmuASe"
      },
      "execution_count": null,
      "outputs": []
    },
    {
      "cell_type": "markdown",
      "source": [
        "# Create Derained Dataset"
      ],
      "metadata": {
        "id": "PHA73Vz5xiaB"
      }
    },
    {
      "cell_type": "code",
      "source": [
        "import os\n",
        "import os.path\n",
        "import numpy as np\n",
        "import torch\n",
        "import cv2\n",
        "from torch.utils.data import Dataset, DataLoader\n",
        "import torchvision\n",
        "from torchvision import transforms\n",
        "import torchvision.transforms.functional as TF\n",
        "import matplotlib.pyplot as plt\n",
        "from PIL import Image\n",
        "from skimage import io\n",
        "from math import ceil"
      ],
      "metadata": {
        "id": "tE8CU_PkuSCu"
      },
      "execution_count": 2,
      "outputs": []
    },
    {
      "cell_type": "code",
      "source": [
        "class DerainDataset(Dataset):\n",
        "    def __init__(self, data_root, ground_truth, rainy, patch_size=0, transform=None):\n",
        "        super(DerainDataset, self).__init__()\n",
        "        self.ground_truth = ground_truth\n",
        "        self.rainy = rainy\n",
        "        self.gt_path = os.path.join(data_root, ground_truth)\n",
        "        self.rainy_path = os.path.join(data_root, rainy)\n",
        "        self.rainy_files = os.listdir(self.rainy_path)\n",
        "        self.patch_size = patch_size\n",
        "        self.transform = transform\n",
        "\n",
        "    def __len__(self):\n",
        "        return len(self.rainy_files)\n",
        "\n",
        "    def __getitem__(self, key):\n",
        "        new_key = key + 1\n",
        "        idx = ceil(new_key / 14)\n",
        "        gt_img = Image.open(os.path.join(self.gt_path, str(idx) + '.jpg')).convert('RGB')\n",
        "        sub = new_key % 14 if new_key % 14 !=0 else 14\n",
        "        rain_img = Image.open(os.path.join(self.rainy_path, str(idx) + '_' + str(sub) + '.jpg')).convert('RGB')\n",
        "\n",
        "        if self.transform:\n",
        "            gt_img = self.transform(gt_img)\n",
        "            rain_img = self.transform(rain_img)\n",
        "        else:\n",
        "            gt_img = transforms.functional.to_tensor(gt_img)\n",
        "            rain_img = transforms.functional.to_tensor(rain_img)\n",
        "\n",
        "        if self.patch_size:\n",
        "            i, j, h, w = transforms.RandomCrop.get_params(\n",
        "                gt_img, output_size=(self.patch_size, self.patch_size))\n",
        "            gt_img = TF.crop(gt_img, i, j, h, w)\n",
        "            rain_img = TF.crop(rain_img, i, j, h, w)\n",
        "\n",
        "        sample = {\n",
        "            \"ground_truth\": gt_img,\n",
        "            'rain_img': rain_img\n",
        "        }\n",
        "\n",
        "        return sample"
      ],
      "metadata": {
        "id": "FdXkesd6x75V"
      },
      "execution_count": 36,
      "outputs": []
    },
    {
      "cell_type": "code",
      "source": [
        "transform=transforms.Compose([\n",
        "                              transforms.RandomCrop(64),\n",
        "                              transforms.ToTensor()\n",
        "                              ])                   "
      ],
      "metadata": {
        "id": "U9ta2eaVNCfG"
      },
      "execution_count": 4,
      "outputs": []
    },
    {
      "cell_type": "code",
      "source": [
        "train_dataset = DerainDataset(data_root='drive/MyDrive/DeepLearningProject/data/training',\n",
        "                              ground_truth=\"ground_truth\",\n",
        "                              rainy='rainy_image',\n",
        "                              patch_size=64)"
      ],
      "metadata": {
        "id": "yeEBzzY3EQBQ"
      },
      "execution_count": 37,
      "outputs": []
    },
    {
      "cell_type": "code",
      "source": [
        "sample = train_dataset[13]\n",
        "print(sample['ground_truth'].numpy().shape)\n",
        "plt.subplot(2, 1, 1)\n",
        "plt.imshow(sample['ground_truth'].numpy().transpose(1, 2, 0))\n",
        "plt.subplot(2, 1, 2)\n",
        "plt.imshow(sample[\"rain_img\"].numpy().transpose(1, 2, 0))"
      ],
      "metadata": {
        "colab": {
          "base_uri": "https://localhost:8080/",
          "height": 305
        },
        "id": "uORjZclwKf84",
        "outputId": "da5eea4a-783e-463f-90d4-74c4c9aade69"
      },
      "execution_count": 38,
      "outputs": [
        {
          "output_type": "stream",
          "name": "stdout",
          "text": [
            "(3, 64, 64)\n"
          ]
        },
        {
          "output_type": "execute_result",
          "data": {
            "text/plain": [
              "<matplotlib.image.AxesImage at 0x7f08e1a78c50>"
            ]
          },
          "metadata": {},
          "execution_count": 38
        },
        {
          "output_type": "display_data",
          "data": {
            "text/plain": [
              "<Figure size 432x288 with 2 Axes>"
            ],
            "image/png": "[encoded data removed]"
          },
          "metadata": {
            "needs_background": "light"
          }
        }
      ]
    },
    {
      "cell_type": "code",
      "source": [
        "print(len(train_dataset))\n",
        "train_size = int(0.7 * len(train_dataset))\n",
        "val_size = len(train_dataset) - train_size\n",
        "print(train_size, val_size)\n",
        "train_dataset, val_dataset = torch.utils.data.random_split(train_dataset, [train_size, val_size])\n",
        "train_dataloader = DataLoader(train_dataset, batch_size=32, shuffle=True, num_workers=0)\n",
        "val_dataloader = DataLoader(val_dataset, batch_size=32, shuffle=True, num_workers=0)"
      ],
      "metadata": {
        "colab": {
          "base_uri": "https://localhost:8080/"
        },
        "id": "P98GjN3Feiea",
        "outputId": "2616169b-1480-4c87-9d94-d6c575d324ed"
      },
      "execution_count": 53,
      "outputs": [
        {
          "output_type": "stream",
          "name": "stdout",
          "text": [
            "12600\n",
            "8820 3780\n"
          ]
        }
      ]
    },
    {
      "cell_type": "code",
      "source": [
        "device = torch.device(\"cuda:0\" if torch.cuda.is_available() else \"cpu\")\n",
        "print(device)"
      ],
      "metadata": {
        "colab": {
          "base_uri": "https://localhost:8080/"
        },
        "id": "gXwfASfkexjF",
        "outputId": "1100042b-f507-412b-d649-b4952e776140"
      },
      "execution_count": 8,
      "outputs": [
        {
          "output_type": "stream",
          "name": "stdout",
          "text": [
            "cuda:0\n"
          ]
        }
      ]
    },
    {
      "cell_type": "markdown",
      "source": [
        "## Create base derain net\n"
      ],
      "metadata": {
        "id": "4enreRoVH1JX"
      }
    },
    {
      "cell_type": "code",
      "source": [
        "!pip install guided-filter-pytorch"
      ],
      "metadata": {
        "colab": {
          "base_uri": "https://localhost:8080/"
        },
        "id": "HzwbxBpO2HCN",
        "outputId": "3327b7aa-daa6-4c14-fe6b-86c96e71ca54"
      },
      "execution_count": 9,
      "outputs": [
        {
          "output_type": "stream",
          "name": "stdout",
          "text": [
            "Collecting guided-filter-pytorch\n",
            "  Downloading guided_filter_pytorch-3.7.5-py3-none-any.whl (3.8 kB)\n",
            "Installing collected packages: guided-filter-pytorch\n",
            "Successfully installed guided-filter-pytorch-3.7.5\n"
          ]
        }
      ]
    },
    {
      "cell_type": "code",
      "source": [
        "import torch\n",
        "import torch.nn as nn\n",
        "import torch.nn.functional as F\n",
        "from guided_filter_pytorch.guided_filter import GuidedFilter"
      ],
      "metadata": {
        "id": "yXYD27Ie7ZoW"
      },
      "execution_count": 10,
      "outputs": []
    },
    {
      "cell_type": "code",
      "source": [
        "class DerainNet(nn.Module):\n",
        "    def __init__(self):\n",
        "        super(DerainNet, self).__init__()\n",
        "        self.conv1 = nn.Conv2d(3, 512, (3, 3), padding=2)\n",
        "        self.conv2 = nn.Conv2d(512, 128, (3, 3), padding=1)\n",
        "        self.conv3 = nn.Conv2d(128, 3, (3, 3), padding=0)\n",
        "\n",
        "    def forward(self, image):\n",
        "        base = GuidedFilter(15, 1)(image, image)\n",
        "        detail = image - base\n",
        "        \n",
        "        y = self.conv1(detail)\n",
        "        y = F.relu(y)\n",
        "        y = self.conv2(y)\n",
        "        y = F.relu(y)\n",
        "        y = self.conv3(y)\n",
        "\n",
        "        return y"
      ],
      "metadata": {
        "id": "h9ckfMQ57cfx"
      },
      "execution_count": 51,
      "outputs": []
    },
    {
      "cell_type": "code",
      "source": [
        "def train_model(model, criterion, optimizer, n_epochs=20):\n",
        "    \"\"\"returns trained model\"\"\"\n",
        "    # initialize tracker for minimum validation loss\n",
        "    valid_loss_min = np.Inf\n",
        "\n",
        "    for epoch in range(1, n_epochs):\n",
        "        train_loss = 0.0\n",
        "        valid_loss = 0.0\n",
        "        # train the model #\n",
        "        model.train()\n",
        "        \n",
        "        for batch_idx, sample_batched in enumerate(train_dataloader):\n",
        "            # importing data and moving to GPU\n",
        "            rainy, clean = sample_batched['rain_img'].to(device), sample_batched['ground_truth'].to(device)\n",
        "            label = clean - GuidedFilter(15, 1)(clean, clean)\n",
        "            # zero the parameter gradients\n",
        "            optimizer.zero_grad()\n",
        "            output = model(rainy)\n",
        "            # calculate loss\n",
        "            loss = criterion((output).type(torch.FloatTensor).to(device), label.type(torch.FloatTensor).to(device))\n",
        "            # back prop\n",
        "            loss.backward()\n",
        "            # grad\n",
        "            optimizer.step()\n",
        "            train_loss = train_loss + ((1 / (batch_idx + 1)) * (loss.data - train_loss))\n",
        "            if batch_idx % 100 == 0:\n",
        "                print('Epoch %d, Batch %d loss: %.6f' %\n",
        "                  (epoch, batch_idx + 1, train_loss))\n",
        "        # validate the model #\n",
        "        model.eval()\n",
        "        for batch_idx, sample_batched in enumerate(val_dataloader):\n",
        "            rainy, clean = sample_batched['rain_img'].to(device), sample_batched['ground_truth'].to(device)\n",
        "            label = clean - GuidedFilter(15, 1)(clean, clean) \n",
        "            output = model(rainy)\n",
        "            # calculate loss\n",
        "            loss=criterion((output).type(torch.FloatTensor).to(device), label.type(torch.FloatTensor).to(device))\n",
        "            valid_loss = valid_loss + ((1 / (batch_idx + 1)) * (loss.data - valid_loss))\n",
        "            \n",
        "        \n",
        "        # print training/validation statistics \n",
        "        print('Epoch: {} \\tTraining Loss: {:.6f} \\tValidation Loss: {:.6f}'.format(\n",
        "            epoch, train_loss, valid_loss))\n",
        "        \n",
        "        ## TODO: save the model if validation loss has decreased\n",
        "        if valid_loss < valid_loss_min:\n",
        "            torch.save(model, 'drive/MyDrive/DL_Project/model.pt')\n",
        "            print('Validation loss decreased ({:.6f} --> {:.6f}).  Saving model ...'.format(\n",
        "            valid_loss_min,\n",
        "            valid_loss))\n",
        "            valid_loss_min = valid_loss\n",
        "    # return trained model\n",
        "    return model"
      ],
      "metadata": {
        "id": "6ngJDj-vYCIl"
      },
      "execution_count": 40,
      "outputs": []
    },
    {
      "cell_type": "code",
      "source": [
        "from torch import nn, optim"
      ],
      "metadata": {
        "id": "oGAdKTwlgTF9"
      },
      "execution_count": 13,
      "outputs": []
    },
    {
      "cell_type": "code",
      "source": [
        "criterion = nn.MSELoss()\n",
        "model_CNN = DerainNet().to(device)\n",
        "optimizer = optim.Adam(model_CNN.parameters(), lr=0.01)\n",
        "model = train_model(model_CNN, criterion, optimizer)"
      ],
      "metadata": {
        "colab": {
          "base_uri": "https://localhost:8080/"
        },
        "id": "jpuj3PVZgBdB",
        "outputId": "9775e1fa-ee62-4638-db8c-faea39c18294"
      },
      "execution_count": 54,
      "outputs": [
        {
          "output_type": "stream",
          "name": "stdout",
          "text": [
            "Epoch 1, Batch 1 loss: 0.013754\n",
            "Epoch 1, Batch 101 loss: 0.493339\n",
            "Epoch 1, Batch 201 loss: 0.250539\n",
            "Epoch: 1 \tTraining Loss: 0.183506 \tValidation Loss: 0.003420\n",
            "Validation loss decreased (inf --> 0.003420).  Saving model ...\n",
            "Epoch 2, Batch 1 loss: 0.003280\n",
            "Epoch 2, Batch 101 loss: 0.003248\n",
            "Epoch 2, Batch 201 loss: 0.003126\n",
            "Epoch: 2 \tTraining Loss: 0.003077 \tValidation Loss: 0.002978\n",
            "Validation loss decreased (0.003420 --> 0.002978).  Saving model ...\n",
            "Epoch 3, Batch 1 loss: 0.002914\n",
            "Epoch 3, Batch 101 loss: 0.002961\n",
            "Epoch 3, Batch 201 loss: 0.002932\n",
            "Epoch: 3 \tTraining Loss: 0.002851 \tValidation Loss: 0.002580\n",
            "Validation loss decreased (0.002978 --> 0.002580).  Saving model ...\n",
            "Epoch 4, Batch 1 loss: 0.002334\n",
            "Epoch 4, Batch 101 loss: 0.002563\n",
            "Epoch 4, Batch 201 loss: 0.002587\n",
            "Epoch: 4 \tTraining Loss: 0.002532 \tValidation Loss: 0.002918\n",
            "Epoch 5, Batch 1 loss: 0.002784\n",
            "Epoch 5, Batch 101 loss: 0.002486\n",
            "Epoch 5, Batch 201 loss: 0.002468\n",
            "Epoch: 5 \tTraining Loss: 0.002465 \tValidation Loss: 0.002242\n",
            "Validation loss decreased (0.002580 --> 0.002242).  Saving model ...\n",
            "Epoch 6, Batch 1 loss: 0.002180\n",
            "Epoch 6, Batch 101 loss: 0.002357\n",
            "Epoch 6, Batch 201 loss: 0.002359\n",
            "Epoch: 6 \tTraining Loss: 0.002377 \tValidation Loss: 0.002290\n",
            "Epoch 7, Batch 1 loss: 0.002329\n",
            "Epoch 7, Batch 101 loss: 0.002372\n",
            "Epoch 7, Batch 201 loss: 0.002347\n",
            "Epoch: 7 \tTraining Loss: 0.002375 \tValidation Loss: 0.002279\n",
            "Epoch 8, Batch 1 loss: 0.002345\n",
            "Epoch 8, Batch 101 loss: 0.002334\n",
            "Epoch 8, Batch 201 loss: 0.002324\n",
            "Epoch: 8 \tTraining Loss: 0.002337 \tValidation Loss: 0.002251\n",
            "Epoch 9, Batch 1 loss: 0.002091\n",
            "Epoch 9, Batch 101 loss: 0.002415\n",
            "Epoch 9, Batch 201 loss: 0.002376\n",
            "Epoch: 9 \tTraining Loss: 0.002362 \tValidation Loss: 0.002379\n",
            "Epoch 10, Batch 1 loss: 0.003011\n",
            "Epoch 10, Batch 101 loss: 0.002354\n",
            "Epoch 10, Batch 201 loss: 0.002374\n",
            "Epoch: 10 \tTraining Loss: 0.002350 \tValidation Loss: 0.002308\n",
            "Epoch 11, Batch 1 loss: 0.002197\n",
            "Epoch 11, Batch 101 loss: 0.002349\n",
            "Epoch 11, Batch 201 loss: 0.002372\n",
            "Epoch: 11 \tTraining Loss: 0.002359 \tValidation Loss: 0.002316\n",
            "Epoch 12, Batch 1 loss: 0.001983\n",
            "Epoch 12, Batch 101 loss: 0.002409\n",
            "Epoch 12, Batch 201 loss: 0.002383\n",
            "Epoch: 12 \tTraining Loss: 0.002389 \tValidation Loss: 0.002371\n",
            "Epoch 13, Batch 1 loss: 0.002590\n",
            "Epoch 13, Batch 101 loss: 0.002323\n",
            "Epoch 13, Batch 201 loss: 0.002331\n",
            "Epoch: 13 \tTraining Loss: 0.002341 \tValidation Loss: 0.002764\n",
            "Epoch 14, Batch 1 loss: 0.002711\n",
            "Epoch 14, Batch 101 loss: 0.002361\n",
            "Epoch 14, Batch 201 loss: 0.002353\n",
            "Epoch: 14 \tTraining Loss: 0.002335 \tValidation Loss: 0.002221\n",
            "Validation loss decreased (0.002242 --> 0.002221).  Saving model ...\n",
            "Epoch 15, Batch 1 loss: 0.002049\n",
            "Epoch 15, Batch 101 loss: 0.002329\n",
            "Epoch 15, Batch 201 loss: 0.002332\n",
            "Epoch: 15 \tTraining Loss: 0.002339 \tValidation Loss: 0.002142\n",
            "Validation loss decreased (0.002221 --> 0.002142).  Saving model ...\n",
            "Epoch 16, Batch 1 loss: 0.002049\n",
            "Epoch 16, Batch 101 loss: 0.002351\n",
            "Epoch 16, Batch 201 loss: 0.002461\n",
            "Epoch: 16 \tTraining Loss: 0.002409 \tValidation Loss: 0.002234\n",
            "Epoch 17, Batch 1 loss: 0.002276\n",
            "Epoch 17, Batch 101 loss: 0.002273\n",
            "Epoch 17, Batch 201 loss: 0.002254\n",
            "Epoch: 17 \tTraining Loss: 0.002318 \tValidation Loss: 0.002285\n",
            "Epoch 18, Batch 1 loss: 0.001950\n",
            "Epoch 18, Batch 101 loss: 0.002251\n",
            "Epoch 18, Batch 201 loss: 0.002266\n",
            "Epoch: 18 \tTraining Loss: 0.002277 \tValidation Loss: 0.002271\n",
            "Epoch 19, Batch 1 loss: 0.002354\n",
            "Epoch 19, Batch 101 loss: 0.002276\n",
            "Epoch 19, Batch 201 loss: 0.002298\n",
            "Epoch: 19 \tTraining Loss: 0.002293 \tValidation Loss: 0.002167\n"
          ]
        }
      ]
    },
    {
      "cell_type": "code",
      "source": [
        ""
      ],
      "metadata": {
        "id": "ILjDEj6KgiL6"
      },
      "execution_count": null,
      "outputs": []
    }
  ]
}